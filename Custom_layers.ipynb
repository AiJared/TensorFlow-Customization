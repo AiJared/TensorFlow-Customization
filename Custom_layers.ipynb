{
  "nbformat": 4,
  "nbformat_minor": 0,
  "metadata": {
    "colab": {
      "provenance": [],
      "gpuType": "T4",
      "authorship_tag": "ABX9TyMKmCaOyczqpNDeXbTdxpUL",
      "include_colab_link": true
    },
    "kernelspec": {
      "name": "python3",
      "display_name": "Python 3"
    },
    "language_info": {
      "name": "python"
    },
    "accelerator": "GPU"
  },
  "cells": [
    {
      "cell_type": "markdown",
      "metadata": {
        "id": "view-in-github",
        "colab_type": "text"
      },
      "source": [
        "<a href=\"https://colab.research.google.com/github/Kerriea-star/TensorFlow-Customization/blob/main/Custom_layers.ipynb\" target=\"_parent\"><img src=\"https://colab.research.google.com/assets/colab-badge.svg\" alt=\"Open In Colab\"/></a>"
      ]
    },
    {
      "cell_type": "markdown",
      "source": [
        "We recommend using `tf.keras` as a high-level API for building neural networks. That said, most TensorFlow APIs are usable with eager execution"
      ],
      "metadata": {
        "id": "ywh7HPOKq4fY"
      }
    },
    {
      "cell_type": "code",
      "execution_count": 1,
      "metadata": {
        "id": "FE1wjeK0qNiR"
      },
      "outputs": [],
      "source": [
        "import tensorflow as tf"
      ]
    },
    {
      "cell_type": "code",
      "source": [
        "print(tf.config.list_physical_devices('GPU'))"
      ],
      "metadata": {
        "colab": {
          "base_uri": "https://localhost:8080/"
        },
        "id": "rooIBQTArCDA",
        "outputId": "edfddf56-b9d7-461b-881d-063a027aaf02"
      },
      "execution_count": 2,
      "outputs": [
        {
          "output_type": "stream",
          "name": "stdout",
          "text": [
            "[PhysicalDevice(name='/physical_device:GPU:0', device_type='GPU')]\n"
          ]
        }
      ]
    },
    {
      "cell_type": "markdown",
      "source": [
        "# Layers: common sets of useful operations\n",
        "\n",
        "Most of the time when writing code for machine learning models you want to operate at a higher level of abstraction than individual operations and manipulation of individual variables.\n",
        "\n",
        "Many machine learning models are expressible as the composition and stacking of relatively simple layers, and TensorFlow provides both a set of many common layers as well as easy ways for you to write your own application-specific layers either from scratch or as the composition of existing layers.\n",
        "\n",
        "TensorFlow includes the full Keras API in the tf.keras package, and the Keras layers are very useful when building your own models."
      ],
      "metadata": {
        "id": "VEVuLd2VrpPy"
      }
    },
    {
      "cell_type": "code",
      "source": [
        "# In the tf.keras.layers package, layers are objects. To construct a layer,\n",
        "# simply construct the object. Most layers take as a first argument the number\n",
        "# of output dimensions / channels.\n",
        "layer = tf.keras.layers.Dense(100)\n",
        "# The number of input dimensions is often unnecessary, as it can be inferred\n",
        "# the first time the layer is used, but it can be provided if you want to\n",
        "# specify it manually, which is useful in some complex models.\n",
        "layer = tf.keras.layers.Dense(10, input_shape=(None, 5))"
      ],
      "metadata": {
        "id": "ZU1IqOiarX1W"
      },
      "execution_count": 3,
      "outputs": []
    },
    {
      "cell_type": "code",
      "source": [
        "# To use a layer simply call it\n",
        "layer(tf.zeros([10, 5]))"
      ],
      "metadata": {
        "colab": {
          "base_uri": "https://localhost:8080/"
        },
        "id": "XvedzwXRsnTA",
        "outputId": "85bc32b0-dc47-46f4-9baa-030c6db32967"
      },
      "execution_count": 4,
      "outputs": [
        {
          "output_type": "execute_result",
          "data": {
            "text/plain": [
              "<tf.Tensor: shape=(10, 10), dtype=float32, numpy=\n",
              "array([[0., 0., 0., 0., 0., 0., 0., 0., 0., 0.],\n",
              "       [0., 0., 0., 0., 0., 0., 0., 0., 0., 0.],\n",
              "       [0., 0., 0., 0., 0., 0., 0., 0., 0., 0.],\n",
              "       [0., 0., 0., 0., 0., 0., 0., 0., 0., 0.],\n",
              "       [0., 0., 0., 0., 0., 0., 0., 0., 0., 0.],\n",
              "       [0., 0., 0., 0., 0., 0., 0., 0., 0., 0.],\n",
              "       [0., 0., 0., 0., 0., 0., 0., 0., 0., 0.],\n",
              "       [0., 0., 0., 0., 0., 0., 0., 0., 0., 0.],\n",
              "       [0., 0., 0., 0., 0., 0., 0., 0., 0., 0.],\n",
              "       [0., 0., 0., 0., 0., 0., 0., 0., 0., 0.]], dtype=float32)>"
            ]
          },
          "metadata": {},
          "execution_count": 4
        }
      ]
    },
    {
      "cell_type": "code",
      "source": [
        "# layers have many useful methods. For example, you can inspect all variables\n",
        "# in a layer using 'layer.variables' and trainable variables using\n",
        "# 'layer.trainable_variables'. In this case a fully-connected layer\n",
        "# will have variables for weights and biases\n",
        "layer.variables"
      ],
      "metadata": {
        "colab": {
          "base_uri": "https://localhost:8080/"
        },
        "id": "eL0MBZ1qs0UK",
        "outputId": "8c950bc4-eb16-42ae-d5b6-e2991e2096fa"
      },
      "execution_count": 5,
      "outputs": [
        {
          "output_type": "execute_result",
          "data": {
            "text/plain": [
              "[<tf.Variable 'dense_1/kernel:0' shape=(5, 10) dtype=float32, numpy=\n",
              " array([[ 0.41538447, -0.39552945, -0.43737733,  0.21807867,  0.01221454,\n",
              "         -0.21406072,  0.05848324, -0.42509842, -0.3170494 , -0.49346277],\n",
              "        [ 0.02651763, -0.18987685,  0.0649904 , -0.48276067, -0.36741722,\n",
              "         -0.46315822,  0.4911068 ,  0.47339648, -0.33553058, -0.1682427 ],\n",
              "        [-0.50481737, -0.1833094 ,  0.48243374,  0.46239668,  0.2577306 ,\n",
              "         -0.24608728,  0.32431293,  0.3103972 , -0.07480168,  0.53747123],\n",
              "        [ 0.18960094, -0.08060372,  0.62434536, -0.5326756 ,  0.04835325,\n",
              "         -0.56158084, -0.13228524, -0.43877125,  0.5967962 , -0.11114728],\n",
              "        [ 0.5108629 , -0.28678828,  0.5370893 ,  0.2438348 ,  0.48180765,\n",
              "          0.5346511 ,  0.43981093,  0.29933393,  0.3932442 , -0.05056775]],\n",
              "       dtype=float32)>,\n",
              " <tf.Variable 'dense_1/bias:0' shape=(10,) dtype=float32, numpy=array([0., 0., 0., 0., 0., 0., 0., 0., 0., 0.], dtype=float32)>]"
            ]
          },
          "metadata": {},
          "execution_count": 5
        }
      ]
    },
    {
      "cell_type": "code",
      "source": [
        "# The variables are also accessible through nice accessors\n",
        "layer.kernel, layer.bias"
      ],
      "metadata": {
        "colab": {
          "base_uri": "https://localhost:8080/"
        },
        "id": "r-ctt6t4tbfF",
        "outputId": "f65ca899-48d5-488a-f47c-2ca8c7b304aa"
      },
      "execution_count": 6,
      "outputs": [
        {
          "output_type": "execute_result",
          "data": {
            "text/plain": [
              "(<tf.Variable 'dense_1/kernel:0' shape=(5, 10) dtype=float32, numpy=\n",
              " array([[ 0.41538447, -0.39552945, -0.43737733,  0.21807867,  0.01221454,\n",
              "         -0.21406072,  0.05848324, -0.42509842, -0.3170494 , -0.49346277],\n",
              "        [ 0.02651763, -0.18987685,  0.0649904 , -0.48276067, -0.36741722,\n",
              "         -0.46315822,  0.4911068 ,  0.47339648, -0.33553058, -0.1682427 ],\n",
              "        [-0.50481737, -0.1833094 ,  0.48243374,  0.46239668,  0.2577306 ,\n",
              "         -0.24608728,  0.32431293,  0.3103972 , -0.07480168,  0.53747123],\n",
              "        [ 0.18960094, -0.08060372,  0.62434536, -0.5326756 ,  0.04835325,\n",
              "         -0.56158084, -0.13228524, -0.43877125,  0.5967962 , -0.11114728],\n",
              "        [ 0.5108629 , -0.28678828,  0.5370893 ,  0.2438348 ,  0.48180765,\n",
              "          0.5346511 ,  0.43981093,  0.29933393,  0.3932442 , -0.05056775]],\n",
              "       dtype=float32)>,\n",
              " <tf.Variable 'dense_1/bias:0' shape=(10,) dtype=float32, numpy=array([0., 0., 0., 0., 0., 0., 0., 0., 0., 0.], dtype=float32)>)"
            ]
          },
          "metadata": {},
          "execution_count": 6
        }
      ]
    },
    {
      "cell_type": "markdown",
      "source": [
        "## Implementing custom layers\n",
        "\n",
        "The best way to implement your own layer is extending the tf.keras.Layer class and implementing:\n",
        "\n",
        "1.  ` __init__` , where you can do all input-independent initialization\n",
        "2.   `build`, where you know the shapes of the input tensors and can do the rest of the initialization\n",
        "3.   `call`, where you do the forward computation\n",
        "\n",
        "Note that you don't have to wait until `build` is called to create your variables, you can also create them in `__init__`. However, the advantage of creating them in `build` is that it enables late variable creation based on the shape of the inputs the layer will operate on. On the other hand, creating variables in `__init__` would mean that shapes required to create the variables will need to be explicitly specified.\n"
      ],
      "metadata": {
        "id": "RHvgk2rwuYXS"
      }
    },
    {
      "cell_type": "code",
      "source": [
        "class MyDenseLayer(tf.keras.layers.Layer):\n",
        "  def __init__(self, num_outputs):\n",
        "    super(MyDenseLayer, self).__init__()\n",
        "    self.num_outputs = num_outputs\n",
        "\n",
        "  def build(self, input_shape):\n",
        "    self.kernel = self.add_weight(\"kernel\",\n",
        "                                  shape=[int(input_shape[-1]),\n",
        "                                         self.num_outputs])\n",
        "\n",
        "  def call(self, inputs):\n",
        "    return tf.matmul(inputs, self.kernel)\n",
        "\n",
        "layer = MyDenseLayer(10)"
      ],
      "metadata": {
        "id": "NKLh0PYAt-O7"
      },
      "execution_count": 9,
      "outputs": []
    },
    {
      "cell_type": "code",
      "source": [
        "_ = layer(tf.zeros([10, 5])) # calling the layer '.builds' it."
      ],
      "metadata": {
        "id": "9NPXwgFiwdk4"
      },
      "execution_count": 10,
      "outputs": []
    },
    {
      "cell_type": "code",
      "source": [
        "print([var.name for var in layer.trainable_variables])"
      ],
      "metadata": {
        "colab": {
          "base_uri": "https://localhost:8080/"
        },
        "id": "laCzi35BwqKJ",
        "outputId": "740475f8-2ae9-437f-e199-5693620d562a"
      },
      "execution_count": 11,
      "outputs": [
        {
          "output_type": "stream",
          "name": "stdout",
          "text": [
            "['my_dense_layer_1/kernel:0']\n"
          ]
        }
      ]
    },
    {
      "cell_type": "markdown",
      "source": [
        "## Models: Composing layers\n",
        "\n",
        "Many interesting layer-like things in machine learning models are implemented by composing existing layers. For example, each residual block in a resnet is a composition of convolutions, batch normalizations, and a shortcut. Layers can be nested inside other layers.\n",
        "\n",
        "Typically you inherit from `keras.Model` when you need the model methods like: `Model.fit`, `Model.evaluate`,  and `Model.save`.\n",
        "\n",
        "One other feature provided by `keras.Model` (instead of `keras.layers.Layer`) is that in addition to tracking variables, a `keras.Model` also tracks its internal layers, making them easier to inspect.\n",
        "\n",
        "For example here is a ResNet block:"
      ],
      "metadata": {
        "id": "MYxU9AUNyI4N"
      }
    },
    {
      "cell_type": "code",
      "source": [
        "class RestNetIdentityBlock(tf.keras.Model):\n",
        "  def __init__(self, kernel_size, filters):\n",
        "    super(RestNetIdentityBlock, self).__init__(name='')\n",
        "    filters1, filters2, filters3 = filters\n",
        "\n",
        "    self.conv2a = tf.keras.layers.Conv2D(filters1, (1, 1))\n",
        "    self.bn2a = tf.keras.layers.BatchNormalization()\n",
        "\n",
        "    self.conv2b = tf.keras.layers.Conv2D(filters2, kernel_size, padding='same')\n",
        "    self.bn2b = tf.keras.layers.BatchNormalization()\n",
        "\n",
        "    self.conv2c = tf.keras.layers.Conv2D(filters3, (1, 1))\n",
        "    self.bn2c = tf.keras.layers.BatchNormalization()\n",
        "\n",
        "  def call(self, input_tensor, training=False):\n",
        "    x = self.conv2a(input_tensor)\n",
        "    x = self.bn2a(x, training=training)\n",
        "    x = tf.nn.relu(x)\n",
        "\n",
        "    x = self.conv2b(x)\n",
        "    x = self.bn2b(x, training=training)\n",
        "    x = tf.nn.relu(x)\n",
        "\n",
        "    x = self.conv2c(x)\n",
        "    x = self.bn2c(x, training=training)\n",
        "\n",
        "    x += input_tensor\n",
        "    return tf.nn.relu(x)\n",
        "\n",
        "block = RestNetIdentityBlock(1, [1, 2, 3])"
      ],
      "metadata": {
        "id": "6iYr-IUQxebK"
      },
      "execution_count": 14,
      "outputs": []
    },
    {
      "cell_type": "code",
      "source": [
        "_ = block(tf.zeros([1, 2, 3, 3]))"
      ],
      "metadata": {
        "id": "qY93p0e60mvt"
      },
      "execution_count": 15,
      "outputs": []
    },
    {
      "cell_type": "code",
      "source": [
        "block.layers"
      ],
      "metadata": {
        "colab": {
          "base_uri": "https://localhost:8080/"
        },
        "id": "ySRoewTm0r-K",
        "outputId": "3f3ebb4e-a552-4a9d-c5b3-342ade20dc00"
      },
      "execution_count": 16,
      "outputs": [
        {
          "output_type": "execute_result",
          "data": {
            "text/plain": [
              "[<keras.src.layers.convolutional.conv2d.Conv2D at 0x786d0a931a50>,\n",
              " <keras.src.layers.normalization.batch_normalization.BatchNormalization at 0x786d0a933610>,\n",
              " <keras.src.layers.convolutional.conv2d.Conv2D at 0x786d0a933ca0>,\n",
              " <keras.src.layers.normalization.batch_normalization.BatchNormalization at 0x786d0a933b20>,\n",
              " <keras.src.layers.convolutional.conv2d.Conv2D at 0x786d0a930a30>,\n",
              " <keras.src.layers.normalization.batch_normalization.BatchNormalization at 0x786d03fefb50>]"
            ]
          },
          "metadata": {},
          "execution_count": 16
        }
      ]
    },
    {
      "cell_type": "code",
      "source": [
        "len(block.variables)"
      ],
      "metadata": {
        "colab": {
          "base_uri": "https://localhost:8080/"
        },
        "id": "qs1spwHG1EtE",
        "outputId": "fed31688-ac44-498e-83ea-eaf9fea62e54"
      },
      "execution_count": 17,
      "outputs": [
        {
          "output_type": "execute_result",
          "data": {
            "text/plain": [
              "18"
            ]
          },
          "metadata": {},
          "execution_count": 17
        }
      ]
    },
    {
      "cell_type": "code",
      "source": [
        "block.summary()"
      ],
      "metadata": {
        "colab": {
          "base_uri": "https://localhost:8080/"
        },
        "id": "Fa_ZdHnc1KtN",
        "outputId": "57a8ec2e-efb3-477f-a891-9d2d788c2234"
      },
      "execution_count": 18,
      "outputs": [
        {
          "output_type": "stream",
          "name": "stdout",
          "text": [
            "Model: \"\"\n",
            "_________________________________________________________________\n",
            " Layer (type)                Output Shape              Param #   \n",
            "=================================================================\n",
            " conv2d_3 (Conv2D)           multiple                  4         \n",
            "                                                                 \n",
            " batch_normalization_3 (Bat  multiple                  4         \n",
            " chNormalization)                                                \n",
            "                                                                 \n",
            " conv2d_4 (Conv2D)           multiple                  4         \n",
            "                                                                 \n",
            " batch_normalization_4 (Bat  multiple                  8         \n",
            " chNormalization)                                                \n",
            "                                                                 \n",
            " conv2d_5 (Conv2D)           multiple                  9         \n",
            "                                                                 \n",
            " batch_normalization_5 (Bat  multiple                  12        \n",
            " chNormalization)                                                \n",
            "                                                                 \n",
            "=================================================================\n",
            "Total params: 41 (164.00 Byte)\n",
            "Trainable params: 29 (116.00 Byte)\n",
            "Non-trainable params: 12 (48.00 Byte)\n",
            "_________________________________________________________________\n"
          ]
        }
      ]
    },
    {
      "cell_type": "code",
      "source": [],
      "metadata": {
        "id": "UubXjINO1PhG"
      },
      "execution_count": null,
      "outputs": []
    }
  ]
}