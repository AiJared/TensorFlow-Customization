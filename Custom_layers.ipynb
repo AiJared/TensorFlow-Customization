{
  "nbformat": 4,
  "nbformat_minor": 0,
  "metadata": {
    "colab": {
      "provenance": [],
      "gpuType": "T4",
      "authorship_tag": "ABX9TyPjJnjizoue72dpLTfwjAn5",
      "include_colab_link": true
    },
    "kernelspec": {
      "name": "python3",
      "display_name": "Python 3"
    },
    "language_info": {
      "name": "python"
    },
    "accelerator": "GPU"
  },
  "cells": [
    {
      "cell_type": "markdown",
      "metadata": {
        "id": "view-in-github",
        "colab_type": "text"
      },
      "source": [
        "<a href=\"https://colab.research.google.com/github/Kerriea-star/TensorFlow-Customization/blob/main/Custom_layers.ipynb\" target=\"_parent\"><img src=\"https://colab.research.google.com/assets/colab-badge.svg\" alt=\"Open In Colab\"/></a>"
      ]
    },
    {
      "cell_type": "markdown",
      "source": [
        "We recommend using `tf.keras` as a high-level API for building neural networks. That said, most TensorFlow APIs are usable with eager execution"
      ],
      "metadata": {
        "id": "ywh7HPOKq4fY"
      }
    },
    {
      "cell_type": "code",
      "execution_count": 1,
      "metadata": {
        "id": "FE1wjeK0qNiR"
      },
      "outputs": [],
      "source": [
        "import tensorflow as tf"
      ]
    },
    {
      "cell_type": "code",
      "source": [
        "print(tf.config.list_physical_devices('GPU'))"
      ],
      "metadata": {
        "colab": {
          "base_uri": "https://localhost:8080/"
        },
        "id": "rooIBQTArCDA",
        "outputId": "edfddf56-b9d7-461b-881d-063a027aaf02"
      },
      "execution_count": 2,
      "outputs": [
        {
          "output_type": "stream",
          "name": "stdout",
          "text": [
            "[PhysicalDevice(name='/physical_device:GPU:0', device_type='GPU')]\n"
          ]
        }
      ]
    },
    {
      "cell_type": "markdown",
      "source": [
        "# Layers: common sets of useful operations\n",
        "\n",
        "Most of the time when writing code for machine learning models you want to operate at a higher level of abstraction than individual operations and manipulation of individual variables.\n",
        "\n",
        "Many machine learning models are expressible as the composition and stacking of relatively simple layers, and TensorFlow provides both a set of many common layers as well as easy ways for you to write your own application-specific layers either from scratch or as the composition of existing layers.\n",
        "\n",
        "TensorFlow includes the full Keras API in the tf.keras package, and the Keras layers are very useful when building your own models."
      ],
      "metadata": {
        "id": "VEVuLd2VrpPy"
      }
    },
    {
      "cell_type": "code",
      "source": [
        "# In the tf.keras.layers package, layers are objects. To construct a layer,\n",
        "# simply construct the object. Most layers take as a first argument the number\n",
        "# of output dimensions / channels.\n",
        "layer = tf.keras.layers.Dense(100)\n",
        "# The number of input dimensions is often unnecessary, as it can be inferred\n",
        "# the first time the layer is used, but it can be provided if you want to\n",
        "# specify it manually, which is useful in some complex models.\n",
        "layer = tf.keras.layers.Dense(10, input_shape=(None, 5))"
      ],
      "metadata": {
        "id": "ZU1IqOiarX1W"
      },
      "execution_count": 3,
      "outputs": []
    },
    {
      "cell_type": "code",
      "source": [
        "# To use a layer simply call it\n",
        "layer(tf.zeros([10, 5]))"
      ],
      "metadata": {
        "colab": {
          "base_uri": "https://localhost:8080/"
        },
        "id": "XvedzwXRsnTA",
        "outputId": "85bc32b0-dc47-46f4-9baa-030c6db32967"
      },
      "execution_count": 4,
      "outputs": [
        {
          "output_type": "execute_result",
          "data": {
            "text/plain": [
              "<tf.Tensor: shape=(10, 10), dtype=float32, numpy=\n",
              "array([[0., 0., 0., 0., 0., 0., 0., 0., 0., 0.],\n",
              "       [0., 0., 0., 0., 0., 0., 0., 0., 0., 0.],\n",
              "       [0., 0., 0., 0., 0., 0., 0., 0., 0., 0.],\n",
              "       [0., 0., 0., 0., 0., 0., 0., 0., 0., 0.],\n",
              "       [0., 0., 0., 0., 0., 0., 0., 0., 0., 0.],\n",
              "       [0., 0., 0., 0., 0., 0., 0., 0., 0., 0.],\n",
              "       [0., 0., 0., 0., 0., 0., 0., 0., 0., 0.],\n",
              "       [0., 0., 0., 0., 0., 0., 0., 0., 0., 0.],\n",
              "       [0., 0., 0., 0., 0., 0., 0., 0., 0., 0.],\n",
              "       [0., 0., 0., 0., 0., 0., 0., 0., 0., 0.]], dtype=float32)>"
            ]
          },
          "metadata": {},
          "execution_count": 4
        }
      ]
    },
    {
      "cell_type": "code",
      "source": [
        "# layers have many useful methods. For example, you can inspect all variables\n",
        "# in a layer using 'layer.variables' and trainable variables using\n",
        "# 'layer.trainable_variables'. In this case a fully-connected layer\n",
        "# will have variables for weights and biases\n",
        "layer.variables"
      ],
      "metadata": {
        "colab": {
          "base_uri": "https://localhost:8080/"
        },
        "id": "eL0MBZ1qs0UK",
        "outputId": "8c950bc4-eb16-42ae-d5b6-e2991e2096fa"
      },
      "execution_count": 5,
      "outputs": [
        {
          "output_type": "execute_result",
          "data": {
            "text/plain": [
              "[<tf.Variable 'dense_1/kernel:0' shape=(5, 10) dtype=float32, numpy=\n",
              " array([[ 0.41538447, -0.39552945, -0.43737733,  0.21807867,  0.01221454,\n",
              "         -0.21406072,  0.05848324, -0.42509842, -0.3170494 , -0.49346277],\n",
              "        [ 0.02651763, -0.18987685,  0.0649904 , -0.48276067, -0.36741722,\n",
              "         -0.46315822,  0.4911068 ,  0.47339648, -0.33553058, -0.1682427 ],\n",
              "        [-0.50481737, -0.1833094 ,  0.48243374,  0.46239668,  0.2577306 ,\n",
              "         -0.24608728,  0.32431293,  0.3103972 , -0.07480168,  0.53747123],\n",
              "        [ 0.18960094, -0.08060372,  0.62434536, -0.5326756 ,  0.04835325,\n",
              "         -0.56158084, -0.13228524, -0.43877125,  0.5967962 , -0.11114728],\n",
              "        [ 0.5108629 , -0.28678828,  0.5370893 ,  0.2438348 ,  0.48180765,\n",
              "          0.5346511 ,  0.43981093,  0.29933393,  0.3932442 , -0.05056775]],\n",
              "       dtype=float32)>,\n",
              " <tf.Variable 'dense_1/bias:0' shape=(10,) dtype=float32, numpy=array([0., 0., 0., 0., 0., 0., 0., 0., 0., 0.], dtype=float32)>]"
            ]
          },
          "metadata": {},
          "execution_count": 5
        }
      ]
    },
    {
      "cell_type": "code",
      "source": [],
      "metadata": {
        "id": "r-ctt6t4tbfF"
      },
      "execution_count": null,
      "outputs": []
    }
  ]
}