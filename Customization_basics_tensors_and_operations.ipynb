{
  "nbformat": 4,
  "nbformat_minor": 0,
  "metadata": {
    "colab": {
      "provenance": [],
      "gpuType": "T4",
      "authorship_tag": "ABX9TyOn17jWzxkUcya/43Hgoof4",
      "include_colab_link": true
    },
    "kernelspec": {
      "name": "python3",
      "display_name": "Python 3"
    },
    "language_info": {
      "name": "python"
    },
    "accelerator": "GPU"
  },
  "cells": [
    {
      "cell_type": "markdown",
      "metadata": {
        "id": "view-in-github",
        "colab_type": "text"
      },
      "source": [
        "<a href=\"https://colab.research.google.com/github/Kerriea-star/TensorFlow-Customization/blob/main/Customization_basics_tensors_and_operations.ipynb\" target=\"_parent\"><img src=\"https://colab.research.google.com/assets/colab-badge.svg\" alt=\"Open In Colab\"/></a>"
      ]
    },
    {
      "cell_type": "markdown",
      "source": [
        "Here, you'll learn how to:\n",
        "\n",
        "*   Import the required package.\n",
        "*   Create and use tensors.\n",
        "*   Use GPU acceleration.\n",
        "*   Build a data pipeline with `tf.data.Dataset`\n",
        "\n"
      ],
      "metadata": {
        "id": "FHHNhwhsMTnd"
      }
    },
    {
      "cell_type": "markdown",
      "source": [
        "### Import TensorFlow\n",
        "\n",
        "As of TensorFlow 2, eager execution is turned on by default. Eager execution enables a more interactive frontend to TensorFlow."
      ],
      "metadata": {
        "id": "1S687rz3MyGQ"
      }
    },
    {
      "cell_type": "code",
      "execution_count": 1,
      "metadata": {
        "id": "qziO13FPLmE8"
      },
      "outputs": [],
      "source": [
        "import tensorflow as tf"
      ]
    },
    {
      "cell_type": "code",
      "source": [],
      "metadata": {
        "id": "u0pfEBXqNG64"
      },
      "execution_count": null,
      "outputs": []
    }
  ]
}